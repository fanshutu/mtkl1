{
 "cells": [
  {
   "cell_type": "markdown",
   "id": "d256871f-2647-4b4a-aedc-5253beaca4cd",
   "metadata": {},
   "source": [
    "# 金融建模 #40 | 在Python中用蒙特卡洛模拟法计算VaR"
   ]
  },
  {
   "cell_type": "markdown",
   "id": "60fc564e-5da0-4041-9bd4-c9ee298885cb",
   "metadata": {},
   "source": [
    "## 导入各种库（Library）"
   ]
  },
  {
   "cell_type": "code",
   "execution_count": 210,
   "id": "d1f57d88-7519-4d8f-b086-29fa1edbd9fa",
   "metadata": {},
   "outputs": [],
   "source": [
    "import numpy as np\n",
    "import pandas as pd\n",
    "import datetime as dt\n",
    "import yfinance as yf              #通过雅虎财经导入金融数据\n",
    "import matplotlib.pylab as plt   \n",
    "from scipy.stats import norm       #导入的一个用于处理连续随机正太分布的模块\n",
    "import math                        #用于进行指数运算\n",
    "import seaborn as sns"
   ]
  },
  {
   "cell_type": "markdown",
   "id": "a9efe174-fccc-4e60-9d84-13a9e71ba411",
   "metadata": {},
   "source": [
    "## 设定特定的时间范围"
   ]
  },
  {
   "cell_type": "code",
   "execution_count": 211,
   "id": "4a9a6bf2-4a1f-47ba-99d8-02e72df9e339",
   "metadata": {},
   "outputs": [],
   "source": [
    "#创建时间范围\n",
    "years = 3\n",
    "endDate = dt.datetime.now()\n",
    "startDate = endDate - dt.timedelta(days=365*years)"
   ]
  },
  {
   "cell_type": "code",
   "execution_count": null,
   "id": "8a0a61dc-7d64-4480-a96a-372d9253b1f2",
   "metadata": {},
   "outputs": [],
   "source": []
  },
  {
   "cell_type": "code",
   "execution_count": null,
   "id": "4b1abd83-9e3f-4cb8-998a-93f056f6ce7c",
   "metadata": {},
   "outputs": [],
   "source": []
  },
  {
   "cell_type": "markdown",
   "id": "1adb3b23-e7d6-417d-ab74-a609410f02ad",
   "metadata": {},
   "source": [
    "## 创建证券的Ticker（代码），以便从Yahoo Finance中提取财经数据"
   ]
  },
  {
   "cell_type": "code",
   "execution_count": 212,
   "id": "3518e4c9-5879-4bb1-8e19-9917e6b0f37f",
   "metadata": {},
   "outputs": [],
   "source": [
    "# SPY: SPDR S&P 500 ETF Trust标普500\n",
    "# LQD: iShares iBoxx $ Investment Grade Corporate Bond ETF\n",
    "# GLD: SPDR Gold Trust\n",
    "# DBC: Invesco DB Commodity Index Tracking Fund \n",
    "# FXE: Invesco CurrencyShares Euro Trust"
   ]
  },
  {
   "cell_type": "code",
   "execution_count": 213,
   "id": "aab6d335-8604-4f2e-a7e4-17ad151d1017",
   "metadata": {},
   "outputs": [],
   "source": [
    "tickers = ['SPY','LQD','GLD','DBC','FXE']"
   ]
  },
  {
   "cell_type": "markdown",
   "id": "75bcad54-aa55-49c0-b39f-018966f95fd7",
   "metadata": {},
   "source": [
    "## 从雅虎财经中将证券过去的历史收盘价格下载下来"
   ]
  },
  {
   "cell_type": "code",
   "execution_count": 214,
   "id": "bda1e3c0-60e8-413e-ba80-4d869bc80760",
   "metadata": {},
   "outputs": [
    {
     "name": "stdout",
     "output_type": "stream",
     "text": [
      "[*********************100%%**********************]  1 of 1 completed\n",
      "[*********************100%%**********************]  1 of 1 completed\n",
      "[*********************100%%**********************]  1 of 1 completed\n",
      "[*********************100%%**********************]  1 of 1 completed\n",
      "[*********************100%%**********************]  1 of 1 completed\n"
     ]
    }
   ],
   "source": [
    "#创建closePrices_df的dataframe\n",
    "#通过for循环从yahoo finance中下载数据\n",
    "\n",
    "closePrices_df = pd.DataFrame()\n",
    "for ticker in tickers:\n",
    "    data = yf.download(ticker,start=startDate,end=endDate)\n",
    "    closePrices_df[ticker]=data['Adj Close']"
   ]
  },
  {
   "cell_type": "code",
   "execution_count": null,
   "id": "0603b1c0-9897-4acb-abdc-704dba0caa74",
   "metadata": {},
   "outputs": [],
   "source": []
  },
  {
   "cell_type": "code",
   "execution_count": null,
   "id": "5a57e0e3-38bb-46c2-9225-020884601a68",
   "metadata": {},
   "outputs": [],
   "source": []
  },
  {
   "cell_type": "markdown",
   "id": "46459453-4306-4cc0-a9dd-6afac2a93f92",
   "metadata": {},
   "source": [
    "## 计算上述资产过去两年每日Log Return，并将NA的数据去除"
   ]
  },
  {
   "cell_type": "code",
   "execution_count": 215,
   "id": "6a11a0a2-652a-41d4-a9de-0bf0aee54c84",
   "metadata": {},
   "outputs": [],
   "source": [
    "#通过np.log，以及df.shift的组合计算资产的log return\n",
    "logReturn = np.log(closePrices_df/closePrices_df.shift(1)).dropna()"
   ]
  },
  {
   "cell_type": "code",
   "execution_count": 216,
   "id": "e9bff3cd-10da-4c6c-b6b7-748ef9a0926d",
   "metadata": {},
   "outputs": [
    {
     "data": {
      "text/html": [
       "<div>\n",
       "<style scoped>\n",
       "    .dataframe tbody tr th:only-of-type {\n",
       "        vertical-align: middle;\n",
       "    }\n",
       "\n",
       "    .dataframe tbody tr th {\n",
       "        vertical-align: top;\n",
       "    }\n",
       "\n",
       "    .dataframe thead th {\n",
       "        text-align: right;\n",
       "    }\n",
       "</style>\n",
       "<table border=\"1\" class=\"dataframe\">\n",
       "  <thead>\n",
       "    <tr style=\"text-align: right;\">\n",
       "      <th></th>\n",
       "      <th>SPY</th>\n",
       "      <th>LQD</th>\n",
       "      <th>GLD</th>\n",
       "      <th>DBC</th>\n",
       "      <th>FXE</th>\n",
       "    </tr>\n",
       "    <tr>\n",
       "      <th>Date</th>\n",
       "      <th></th>\n",
       "      <th></th>\n",
       "      <th></th>\n",
       "      <th></th>\n",
       "      <th></th>\n",
       "    </tr>\n",
       "  </thead>\n",
       "  <tbody>\n",
       "    <tr>\n",
       "      <th>2020-09-16</th>\n",
       "      <td>-0.003977</td>\n",
       "      <td>0.000663</td>\n",
       "      <td>0.002831</td>\n",
       "      <td>0.018321</td>\n",
       "      <td>-0.003952</td>\n",
       "    </tr>\n",
       "    <tr>\n",
       "      <th>2020-09-17</th>\n",
       "      <td>-0.008834</td>\n",
       "      <td>0.000220</td>\n",
       "      <td>-0.005505</td>\n",
       "      <td>0.011283</td>\n",
       "      <td>0.003952</td>\n",
       "    </tr>\n",
       "    <tr>\n",
       "      <th>2020-09-18</th>\n",
       "      <td>-0.011579</td>\n",
       "      <td>-0.001840</td>\n",
       "      <td>0.001311</td>\n",
       "      <td>0.004478</td>\n",
       "      <td>0.000000</td>\n",
       "    </tr>\n",
       "    <tr>\n",
       "      <th>2020-09-21</th>\n",
       "      <td>-0.011192</td>\n",
       "      <td>-0.000958</td>\n",
       "      <td>-0.020292</td>\n",
       "      <td>-0.024879</td>\n",
       "      <td>-0.007106</td>\n",
       "    </tr>\n",
       "    <tr>\n",
       "      <th>2020-09-22</th>\n",
       "      <td>0.010133</td>\n",
       "      <td>0.000590</td>\n",
       "      <td>-0.004858</td>\n",
       "      <td>-0.004591</td>\n",
       "      <td>-0.004705</td>\n",
       "    </tr>\n",
       "    <tr>\n",
       "      <th>...</th>\n",
       "      <td>...</td>\n",
       "      <td>...</td>\n",
       "      <td>...</td>\n",
       "      <td>...</td>\n",
       "      <td>...</td>\n",
       "    </tr>\n",
       "    <tr>\n",
       "      <th>2023-09-08</th>\n",
       "      <td>0.001505</td>\n",
       "      <td>0.000764</td>\n",
       "      <td>0.000337</td>\n",
       "      <td>0.001997</td>\n",
       "      <td>0.000810</td>\n",
       "    </tr>\n",
       "    <tr>\n",
       "      <th>2023-09-11</th>\n",
       "      <td>0.006555</td>\n",
       "      <td>-0.001912</td>\n",
       "      <td>0.001851</td>\n",
       "      <td>0.005968</td>\n",
       "      <td>0.004545</td>\n",
       "    </tr>\n",
       "    <tr>\n",
       "      <th>2023-09-12</th>\n",
       "      <td>-0.005501</td>\n",
       "      <td>-0.000287</td>\n",
       "      <td>-0.005170</td>\n",
       "      <td>0.003564</td>\n",
       "      <td>-0.001816</td>\n",
       "    </tr>\n",
       "    <tr>\n",
       "      <th>2023-09-13</th>\n",
       "      <td>0.001165</td>\n",
       "      <td>0.002199</td>\n",
       "      <td>-0.002313</td>\n",
       "      <td>0.003157</td>\n",
       "      <td>0.000404</td>\n",
       "    </tr>\n",
       "    <tr>\n",
       "      <th>2023-09-14</th>\n",
       "      <td>0.008541</td>\n",
       "      <td>-0.001577</td>\n",
       "      <td>0.000254</td>\n",
       "      <td>0.008826</td>\n",
       "      <td>-0.008819</td>\n",
       "    </tr>\n",
       "  </tbody>\n",
       "</table>\n",
       "<p>754 rows × 5 columns</p>\n",
       "</div>"
      ],
      "text/plain": [
       "                 SPY       LQD       GLD       DBC       FXE\n",
       "Date                                                        \n",
       "2020-09-16 -0.003977  0.000663  0.002831  0.018321 -0.003952\n",
       "2020-09-17 -0.008834  0.000220 -0.005505  0.011283  0.003952\n",
       "2020-09-18 -0.011579 -0.001840  0.001311  0.004478  0.000000\n",
       "2020-09-21 -0.011192 -0.000958 -0.020292 -0.024879 -0.007106\n",
       "2020-09-22  0.010133  0.000590 -0.004858 -0.004591 -0.004705\n",
       "...              ...       ...       ...       ...       ...\n",
       "2023-09-08  0.001505  0.000764  0.000337  0.001997  0.000810\n",
       "2023-09-11  0.006555 -0.001912  0.001851  0.005968  0.004545\n",
       "2023-09-12 -0.005501 -0.000287 -0.005170  0.003564 -0.001816\n",
       "2023-09-13  0.001165  0.002199 -0.002313  0.003157  0.000404\n",
       "2023-09-14  0.008541 -0.001577  0.000254  0.008826 -0.008819\n",
       "\n",
       "[754 rows x 5 columns]"
      ]
     },
     "execution_count": 216,
     "metadata": {},
     "output_type": "execute_result"
    }
   ],
   "source": [
    "logReturn"
   ]
  },
  {
   "cell_type": "markdown",
   "id": "d1226db2-400f-4403-9715-ecd8740612ca",
   "metadata": {},
   "source": [
    "## 创建组合指标计算公式"
   ]
  },
  {
   "cell_type": "code",
   "execution_count": 217,
   "id": "33209053-3605-44ea-bcbd-95dd96099443",
   "metadata": {},
   "outputs": [],
   "source": [
    "#创建计算组合期望收益率的公式\n",
    "def portfolio_expected_return(weights,logReturn):\n",
    "    return np.sum(weights * logReturn.mean())"
   ]
  },
  {
   "cell_type": "code",
   "execution_count": 218,
   "id": "a3e963e4-dfb4-4a8f-9e50-a43f9daae645",
   "metadata": {},
   "outputs": [],
   "source": [
    "#创建计算组合标准差的公式\n",
    "#如果是python 3.5版本以上的，可以使用@来计算矩阵相乘\n",
    "def portfolio_standard_deviation(weights,cov_matrix):\n",
    "    portfolio_variance = weights.T @ cov_matrix @ weights\n",
    "    std = np.sqrt(portfolio_variance)\n",
    "    return std"
   ]
  },
  {
   "cell_type": "code",
   "execution_count": null,
   "id": "67d900d8-bef0-4c08-b37d-a432b55e399f",
   "metadata": {},
   "outputs": [],
   "source": []
  },
  {
   "cell_type": "code",
   "execution_count": null,
   "id": "24d9c8c7-1a16-44a5-94ca-886c3afcf3e1",
   "metadata": {},
   "outputs": [],
   "source": []
  },
  {
   "cell_type": "markdown",
   "id": "8c3df527-84a7-41ee-bb2b-cf6231c6bcc0",
   "metadata": {},
   "source": [
    "## 创建组合（设置组合权重）"
   ]
  },
  {
   "cell_type": "code",
   "execution_count": 219,
   "id": "bb349f0d-690a-45c9-a412-c7dc6790ecc8",
   "metadata": {},
   "outputs": [],
   "source": [
    "#设置Portfolio初始金额\n",
    "portfolio = 1000000"
   ]
  },
  {
   "cell_type": "code",
   "execution_count": 220,
   "id": "8aac7cc1-846a-4337-9add-0e0c08b935d2",
   "metadata": {},
   "outputs": [],
   "source": [
    "#创建一个Dictionary，将每个资产的权重都设置成一致\n",
    "value_per_ticker = 1 / len(tickers)\n",
    "portfolio_weights = pd.Series({ticker: value_per_ticker for ticker in tickers})"
   ]
  },
  {
   "cell_type": "code",
   "execution_count": 221,
   "id": "c0fd23f2-3d10-42e3-be4f-f53609fa2dd3",
   "metadata": {},
   "outputs": [],
   "source": [
    "#portfolio_weights = {'SPY': 0.4,'LQD': 0.1,'GLD': 0.1,'DBC': 0.3,'FXE': 0.1}"
   ]
  },
  {
   "cell_type": "code",
   "execution_count": 222,
   "id": "1b348b80-032b-4c93-a746-5e742e82d3ff",
   "metadata": {},
   "outputs": [],
   "source": [
    "#portfolio_weights = pd.Series(portfolio_weights)"
   ]
  },
  {
   "cell_type": "code",
   "execution_count": 223,
   "id": "5c2c1a6f-b562-4f59-835e-f961d58839b2",
   "metadata": {},
   "outputs": [],
   "source": [
    "#计算各个资产log收益率之间的协方差矩阵\n",
    "portfolio_coveriance = logReturn.cov()"
   ]
  },
  {
   "cell_type": "code",
   "execution_count": 224,
   "id": "6debee67-9877-4656-9a1c-c24f44b0bd18",
   "metadata": {},
   "outputs": [
    {
     "data": {
      "text/html": [
       "<div>\n",
       "<style scoped>\n",
       "    .dataframe tbody tr th:only-of-type {\n",
       "        vertical-align: middle;\n",
       "    }\n",
       "\n",
       "    .dataframe tbody tr th {\n",
       "        vertical-align: top;\n",
       "    }\n",
       "\n",
       "    .dataframe thead th {\n",
       "        text-align: right;\n",
       "    }\n",
       "</style>\n",
       "<table border=\"1\" class=\"dataframe\">\n",
       "  <thead>\n",
       "    <tr style=\"text-align: right;\">\n",
       "      <th></th>\n",
       "      <th>SPY</th>\n",
       "      <th>LQD</th>\n",
       "      <th>GLD</th>\n",
       "      <th>DBC</th>\n",
       "      <th>FXE</th>\n",
       "    </tr>\n",
       "  </thead>\n",
       "  <tbody>\n",
       "    <tr>\n",
       "      <th>SPY</th>\n",
       "      <td>0.000128</td>\n",
       "      <td>0.000025</td>\n",
       "      <td>0.000016</td>\n",
       "      <td>0.000038</td>\n",
       "      <td>0.000021</td>\n",
       "    </tr>\n",
       "    <tr>\n",
       "      <th>LQD</th>\n",
       "      <td>0.000025</td>\n",
       "      <td>0.000034</td>\n",
       "      <td>0.000020</td>\n",
       "      <td>0.000002</td>\n",
       "      <td>0.000009</td>\n",
       "    </tr>\n",
       "    <tr>\n",
       "      <th>GLD</th>\n",
       "      <td>0.000016</td>\n",
       "      <td>0.000020</td>\n",
       "      <td>0.000082</td>\n",
       "      <td>0.000039</td>\n",
       "      <td>0.000021</td>\n",
       "    </tr>\n",
       "    <tr>\n",
       "      <th>DBC</th>\n",
       "      <td>0.000038</td>\n",
       "      <td>0.000002</td>\n",
       "      <td>0.000039</td>\n",
       "      <td>0.000176</td>\n",
       "      <td>0.000013</td>\n",
       "    </tr>\n",
       "    <tr>\n",
       "      <th>FXE</th>\n",
       "      <td>0.000021</td>\n",
       "      <td>0.000009</td>\n",
       "      <td>0.000021</td>\n",
       "      <td>0.000013</td>\n",
       "      <td>0.000025</td>\n",
       "    </tr>\n",
       "  </tbody>\n",
       "</table>\n",
       "</div>"
      ],
      "text/plain": [
       "          SPY       LQD       GLD       DBC       FXE\n",
       "SPY  0.000128  0.000025  0.000016  0.000038  0.000021\n",
       "LQD  0.000025  0.000034  0.000020  0.000002  0.000009\n",
       "GLD  0.000016  0.000020  0.000082  0.000039  0.000021\n",
       "DBC  0.000038  0.000002  0.000039  0.000176  0.000013\n",
       "FXE  0.000021  0.000009  0.000021  0.000013  0.000025"
      ]
     },
     "execution_count": 224,
     "metadata": {},
     "output_type": "execute_result"
    }
   ],
   "source": [
    "portfolio_coveriance"
   ]
  },
  {
   "cell_type": "code",
   "execution_count": 225,
   "id": "98a419f2-a6c8-452d-87b6-5405c08b5466",
   "metadata": {},
   "outputs": [],
   "source": [
    "portfolioExpectedReturn = portfolio_expected_return(portfolio_weights,logReturn)\n",
    "portfolioStd = portfolio_standard_deviation(portfolio_weights,portfolio_coveriance)"
   ]
  },
  {
   "cell_type": "code",
   "execution_count": 226,
   "id": "08ef7c35-bcbd-43a1-8ac4-f7c4df7bf028",
   "metadata": {},
   "outputs": [
    {
     "name": "stdout",
     "output_type": "stream",
     "text": [
      "0.00018177762234716042\n",
      "0.005847595292211167\n"
     ]
    }
   ],
   "source": [
    "print(portfolioExpectedReturn)\n",
    "print(portfolioStd)"
   ]
  },
  {
   "cell_type": "code",
   "execution_count": 227,
   "id": "42c8d7de-f68a-4afb-bcd0-84978e4eba3d",
   "metadata": {},
   "outputs": [
    {
     "data": {
      "text/plain": [
       "SPY    0.000432\n",
       "LQD   -0.000229\n",
       "GLD   -0.000047\n",
       "DBC    0.000909\n",
       "FXE   -0.000156\n",
       "dtype: float64"
      ]
     },
     "execution_count": 227,
     "metadata": {},
     "output_type": "execute_result"
    }
   ],
   "source": [
    "logReturn.mean()"
   ]
  },
  {
   "cell_type": "markdown",
   "id": "9bd490d8-5e68-4ef4-86ec-c6d416d0d7e8",
   "metadata": {},
   "source": [
    "## 进行蒙特卡洛模拟设置"
   ]
  },
  {
   "cell_type": "code",
   "execution_count": 228,
   "id": "1e7445c7-ec00-4817-9113-ba85e8ec3a44",
   "metadata": {},
   "outputs": [],
   "source": [
    "#通过正态分布创建随机数（标准分数/Z-Score）\n",
    "def random_Z_Score():\n",
    "    return np.random.normal(0,1)  \n"
   ]
  },
  {
   "cell_type": "code",
   "execution_count": 229,
   "id": "ecd6ae98-9c9e-4a05-b8e8-7e6e244e3b40",
   "metadata": {},
   "outputs": [],
   "source": [
    "#确定计算几天（X天）的VaR\n",
    "Days = 10"
   ]
  },
  {
   "cell_type": "code",
   "execution_count": 230,
   "id": "6b24b566-eac1-4d48-b620-31bddb4c2020",
   "metadata": {},
   "outputs": [],
   "source": [
    "#创建一个公式，可以返回一次蒙特卡洛模拟下，组合在X天后的损益情况\n",
    "def scenario_PL(PortSize, PortExpReturn, PortStvd,days):\n",
    "    portfolioValue = PortSize\n",
    "    for day in range(days):\n",
    "        z_score = random_Z_Score()\n",
    "        portfolioValue = portfolioValue * np.exp(PortExpReturn+PortStvd*z_score)\n",
    "    PortPL = portfolioValue - PortSize\n",
    "    return PortPL\n"
   ]
  },
  {
   "cell_type": "code",
   "execution_count": null,
   "id": "0457b976-0e71-46f0-96a4-ab6947694199",
   "metadata": {},
   "outputs": [],
   "source": []
  },
  {
   "cell_type": "code",
   "execution_count": null,
   "id": "eea99983-4663-4e82-829a-c43849bef1e6",
   "metadata": {},
   "outputs": [],
   "source": []
  },
  {
   "cell_type": "markdown",
   "id": "6c127411-cfbe-4934-81d7-0962523bde8c",
   "metadata": {},
   "source": [
    "## 进行蒙特卡洛模拟"
   ]
  },
  {
   "cell_type": "code",
   "execution_count": 231,
   "id": "a3b6d60d-6e7f-4ef9-a622-5cc71d752ecb",
   "metadata": {},
   "outputs": [],
   "source": [
    "## 设置模拟此时\n",
    "simulationTimes = 100000"
   ]
  },
  {
   "cell_type": "code",
   "execution_count": 232,
   "id": "23e08f6e-e9dc-442d-8eb2-461616674cfb",
   "metadata": {},
   "outputs": [],
   "source": [
    "## 创建一个空列表来装载模拟的结果\n",
    "simulationResult = []"
   ]
  },
  {
   "cell_type": "code",
   "execution_count": 233,
   "id": "4620d78b-6cf8-4c6a-bd8a-6284f799cf67",
   "metadata": {},
   "outputs": [],
   "source": [
    "## 进行模拟\n",
    "for i in range(simulationTimes):\n",
    "    pl =  scenario_PL(portfolio,\n",
    "                      portfolioExpectedReturn,\n",
    "                      portfolioStd,\n",
    "                      Days\n",
    "                      )\n",
    "    simulationResult.append(pl)\n"
   ]
  },
  {
   "cell_type": "code",
   "execution_count": null,
   "id": "a2a0eeff-3f28-4c12-b5d8-b274ba46c42d",
   "metadata": {
    "scrolled": true,
    "tags": []
   },
   "outputs": [],
   "source": [
    "simulationResult"
   ]
  },
  {
   "cell_type": "code",
   "execution_count": 235,
   "id": "848cf4b9-ca00-4fd5-95ef-a020c25dcf8e",
   "metadata": {},
   "outputs": [
    {
     "data": {
      "text/html": [
       "<div>\n",
       "<style scoped>\n",
       "    .dataframe tbody tr th:only-of-type {\n",
       "        vertical-align: middle;\n",
       "    }\n",
       "\n",
       "    .dataframe tbody tr th {\n",
       "        vertical-align: top;\n",
       "    }\n",
       "\n",
       "    .dataframe thead th {\n",
       "        text-align: right;\n",
       "    }\n",
       "</style>\n",
       "<table border=\"1\" class=\"dataframe\">\n",
       "  <thead>\n",
       "    <tr style=\"text-align: right;\">\n",
       "      <th></th>\n",
       "      <th>0</th>\n",
       "    </tr>\n",
       "  </thead>\n",
       "  <tbody>\n",
       "    <tr>\n",
       "      <th>count</th>\n",
       "      <td>100000.000000</td>\n",
       "    </tr>\n",
       "    <tr>\n",
       "      <th>mean</th>\n",
       "      <td>1901.545268</td>\n",
       "    </tr>\n",
       "    <tr>\n",
       "      <th>std</th>\n",
       "      <td>18545.436449</td>\n",
       "    </tr>\n",
       "    <tr>\n",
       "      <th>min</th>\n",
       "      <td>-73551.824749</td>\n",
       "    </tr>\n",
       "    <tr>\n",
       "      <th>25%</th>\n",
       "      <td>-10773.830712</td>\n",
       "    </tr>\n",
       "    <tr>\n",
       "      <th>50%</th>\n",
       "      <td>1742.140921</td>\n",
       "    </tr>\n",
       "    <tr>\n",
       "      <th>75%</th>\n",
       "      <td>14386.056368</td>\n",
       "    </tr>\n",
       "    <tr>\n",
       "      <th>max</th>\n",
       "      <td>93576.567795</td>\n",
       "    </tr>\n",
       "  </tbody>\n",
       "</table>\n",
       "</div>"
      ],
      "text/plain": [
       "                   0\n",
       "count  100000.000000\n",
       "mean     1901.545268\n",
       "std     18545.436449\n",
       "min    -73551.824749\n",
       "25%    -10773.830712\n",
       "50%      1742.140921\n",
       "75%     14386.056368\n",
       "max     93576.567795"
      ]
     },
     "execution_count": 235,
     "metadata": {},
     "output_type": "execute_result"
    }
   ],
   "source": [
    "pd.DataFrame(simulationResult).describe()"
   ]
  },
  {
   "cell_type": "code",
   "execution_count": null,
   "id": "13d62b48-fc38-42d3-8460-c9ab53ee97c4",
   "metadata": {},
   "outputs": [],
   "source": []
  },
  {
   "cell_type": "markdown",
   "id": "b8448ff4-4b3e-4a95-a45f-6b1195938396",
   "metadata": {},
   "source": [
    "## 设置执行区间，并计算VaR值"
   ]
  },
  {
   "cell_type": "markdown",
   "id": "dfe0d929-e514-4a76-9d34-7057331fccfc",
   "metadata": {},
   "source": [
    "- 置信区间水平设置越高(显著性水平越小），损失越大\n",
    "- 天数（days）越大，损失越大"
   ]
  },
  {
   "cell_type": "code",
   "execution_count": 236,
   "id": "8f4e4560-3163-41ba-aa44-36fe92015da5",
   "metadata": {},
   "outputs": [],
   "source": [
    "#设置confidence_interval = 0.95\n",
    "confidence_interval = 0.95"
   ]
  },
  {
   "cell_type": "code",
   "execution_count": 237,
   "id": "cac353f1-d12c-4b0b-a73e-b3e56e59208b",
   "metadata": {},
   "outputs": [],
   "source": [
    "#通过np.percentile计算VaR值\n",
    "VaR = np.percentile(simulationResult,100 - confidence_interval*100)"
   ]
  },
  {
   "cell_type": "code",
   "execution_count": 238,
   "id": "729717a3-4e0b-4c55-ac0e-afcb610ecfcf",
   "metadata": {},
   "outputs": [
    {
     "name": "stdout",
     "output_type": "stream",
     "text": [
      "-28338.676826373227\n"
     ]
    }
   ],
   "source": [
    "print(VaR)"
   ]
  },
  {
   "cell_type": "code",
   "execution_count": null,
   "id": "6ee7a09e-d249-4e7f-bbba-42c2eae356e2",
   "metadata": {},
   "outputs": [],
   "source": []
  },
  {
   "cell_type": "code",
   "execution_count": null,
   "id": "2fe24b0b-c1ff-4427-badc-185097758b6e",
   "metadata": {},
   "outputs": [],
   "source": []
  },
  {
   "cell_type": "markdown",
   "id": "79ff36ee-015f-4a0d-8d4d-518a2c5e364b",
   "metadata": {},
   "source": [
    "## 将数据可视化呈现"
   ]
  },
  {
   "cell_type": "code",
   "execution_count": 244,
   "id": "5cad5b4b-1e54-4ccd-b141-d0ecdeb52ffb",
   "metadata": {},
   "outputs": [
    {
     "data": {
      "text/plain": [
       "<function matplotlib.pyplot.show(close=None, block=None)>"
      ]
     },
     "execution_count": 244,
     "metadata": {},
     "output_type": "execute_result"
    },
    {
     "data": {
      "image/png": "[encoded data removed]",
      "text/plain": [
       "<Figure size 640x480 with 1 Axes>"
      ]
     },
     "metadata": {},
     "output_type": "display_data"
    }
   ],
   "source": [
    "#进行作图\n",
    "sns.histplot(simulationResult, kde=True, color='blue')\n",
    "plt.xlabel(f'{Days} - 天组合损益')\n",
    "plt.ylabel('频率/出现次数')\n",
    "plt.title(f'组合{Days}天损益分布情况')\n",
    "plt.axvline(VaR,color='r',linestyle='dashed',linewidth=2,label=f'在{confidence_interval:.0%}置信水平下的VaR')\n",
    "plt.legend\n",
    "plt.rcParams['font.sans-serif'] = ['SimSun']\n",
    "plt.rcParams['axes.unicode_minus'] = False \n",
    "plt.show"
   ]
  },
  {
   "cell_type": "code",
   "execution_count": null,
   "id": "863360c4-ea4c-47b2-9af4-d6ad278d2f95",
   "metadata": {},
   "outputs": [],
   "source": []
  }
 ],
 "metadata": {
  "kernelspec": {
   "display_name": "Python 3 (ipykernel)",
   "language": "python",
   "name": "python3"
  },
  "language_info": {
   "codemirror_mode": {
    "name": "ipython",
    "version": 3
   },
   "file_extension": ".py",
   "mimetype": "text/x-python",
   "name": "python",
   "nbconvert_exporter": "python",
   "pygments_lexer": "ipython3",
   "version": "3.9.13"
  },
  "widgets": {
   "application/vnd.jupyter.widget-state+json": {
    "state": {},
    "version_major": 2,
    "version_minor": 0
   }
  }
 },
 "nbformat": 4,
 "nbformat_minor": 5
}
